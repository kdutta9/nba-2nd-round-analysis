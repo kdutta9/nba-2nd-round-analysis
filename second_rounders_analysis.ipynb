{
 "cells": [
  {
   "cell_type": "code",
   "execution_count": 1,
   "metadata": {},
   "outputs": [],
   "source": [
    "from datascience import *\n",
    "import numpy as np\n",
    "import statistics"
   ]
  },
  {
   "cell_type": "code",
   "execution_count": 2,
   "metadata": {},
   "outputs": [],
   "source": [
    "# access the csv file\n",
    "picks_data = Table.read_table(\"second_rounders_2005-14.csv\")"
   ]
  },
  {
   "cell_type": "code",
   "execution_count": 3,
   "metadata": {
    "scrolled": true
   },
   "outputs": [
    {
     "data": {
      "text/html": [
       "<table border=\"1\" class=\"dataframe\">\n",
       "    <thead>\n",
       "        <tr>\n",
       "            <th>Unnamed: 0</th> <th>Draft Year</th> <th>Pk</th> <th>Tm</th> <th>Player</th> <th>College</th> <th>Yrs</th> <th>G</th> <th>MP</th> <th>PTS</th> <th>TRB</th> <th>AST</th> <th>FG_Perc</th> <th>3P_Perc</th> <th>FT_Perc</th> <th>MP.1</th> <th>PTS_per_G</th> <th>TRB_per_G</th> <th>AST_per_G</th> <th>WS_per_G</th> <th>WS_per_48</th> <th>BPM</th> <th>VORP</th>\n",
       "        </tr>\n",
       "    </thead>\n",
       "    <tbody>\n",
       "        <tr>\n",
       "            <td>0         </td> <td>2005      </td> <td>31  </td> <td>ATL </td> <td>Salim Stoudamire</td> <td>University of Arizona     </td> <td>3   </td> <td>157 </td> <td>2672 </td> <td>1260 </td> <td>214 </td> <td>164 </td> <td>0.407  </td> <td>0.366  </td> <td>0.882  </td> <td>17  </td> <td>8        </td> <td>1.4      </td> <td>1        </td> <td>2.2     </td> <td>0.04     </td> <td>-5.1</td> <td>-2.1</td>\n",
       "        </tr>\n",
       "        <tr>\n",
       "            <td>1         </td> <td>2005      </td> <td>32  </td> <td>LAC </td> <td>Daniel Ewing    </td> <td>Duke University           </td> <td>2   </td> <td>127 </td> <td>1683 </td> <td>431  </td> <td>158 </td> <td>174 </td> <td>0.389  </td> <td>0.295  </td> <td>0.78   </td> <td>13.3</td> <td>3.4      </td> <td>1.2      </td> <td>1.4      </td> <td>0.8     </td> <td>0.024    </td> <td>-3.7</td> <td>-0.7</td>\n",
       "        </tr>\n",
       "        <tr>\n",
       "            <td>2         </td> <td>2005      </td> <td>33  </td> <td>NOH </td> <td>Brandon Bass    </td> <td>Louisiana State University</td> <td>12  </td> <td>758 </td> <td>16410</td> <td>6575 </td> <td>3448</td> <td>608 </td> <td>0.499  </td> <td>0.207  </td> <td>0.832  </td> <td>21.6</td> <td>8.7      </td> <td>4.5      </td> <td>0.8      </td> <td>42.8    </td> <td>0.125    </td> <td>-1.1</td> <td>3.7 </td>\n",
       "        </tr>\n",
       "        <tr>\n",
       "            <td>3         </td> <td>2005      </td> <td>34  </td> <td>UTA </td> <td>C.J. Miles      </td> <td>0                         </td> <td>14  </td> <td>838 </td> <td>17121</td> <td>8044 </td> <td>1999</td> <td>902 </td> <td>0.412  </td> <td>0.359  </td> <td>0.81   </td> <td>20.4</td> <td>9.6      </td> <td>2.4      </td> <td>1.1      </td> <td>30      </td> <td>0.084    </td> <td>-1  </td> <td>4.3 </td>\n",
       "        </tr>\n",
       "        <tr>\n",
       "            <td>4         </td> <td>2005      </td> <td>35  </td> <td>POR </td> <td>Ricky Sanchez   </td> <td>0                         </td> <td>0   </td> <td>0   </td> <td>0    </td> <td>0    </td> <td>0   </td> <td>0   </td> <td>0      </td> <td>0      </td> <td>0      </td> <td>0   </td> <td>0        </td> <td>0        </td> <td>0        </td> <td>0       </td> <td>0        </td> <td>0   </td> <td>0   </td>\n",
       "        </tr>\n",
       "        <tr>\n",
       "            <td>5         </td> <td>2005      </td> <td>36  </td> <td>MIL </td> <td>Ersan Ilyasova  </td> <td>0                         </td> <td>11  </td> <td>745 </td> <td>17823</td> <td>7885 </td> <td>4330</td> <td>855 </td> <td>0.443  </td> <td>0.365  </td> <td>0.773  </td> <td>23.9</td> <td>10.6     </td> <td>5.8      </td> <td>1.1      </td> <td>44.9    </td> <td>0.121    </td> <td>-0.2</td> <td>8.3 </td>\n",
       "        </tr>\n",
       "        <tr>\n",
       "            <td>6         </td> <td>2005      </td> <td>37  </td> <td>LAL </td> <td>Ronny Turiaf    </td> <td>Gonzaga University        </td> <td>10  </td> <td>473 </td> <td>8020 </td> <td>2209 </td> <td>1757</td> <td>618 </td> <td>0.533  </td> <td>0      </td> <td>0.636  </td> <td>17  </td> <td>4.7      </td> <td>3.7      </td> <td>1.3      </td> <td>19.2    </td> <td>0.115    </td> <td>1   </td> <td>6   </td>\n",
       "        </tr>\n",
       "        <tr>\n",
       "            <td>7         </td> <td>2005      </td> <td>38  </td> <td>ORL </td> <td>Travis Diener   </td> <td>Marquette University      </td> <td>5   </td> <td>179 </td> <td>2660 </td> <td>854  </td> <td>243 </td> <td>432 </td> <td>0.388  </td> <td>0.353  </td> <td>0.847  </td> <td>14.9</td> <td>4.8      </td> <td>1.4      </td> <td>2.4      </td> <td>5.6     </td> <td>0.102    </td> <td>-1.8</td> <td>0.1 </td>\n",
       "        </tr>\n",
       "        <tr>\n",
       "            <td>8         </td> <td>2005      </td> <td>39  </td> <td>LAL </td> <td>Von Wafer       </td> <td>Florida State University  </td> <td>6   </td> <td>200 </td> <td>2475 </td> <td>1054 </td> <td>234 </td> <td>146 </td> <td>0.42   </td> <td>0.325  </td> <td>0.751  </td> <td>12.4</td> <td>5.3      </td> <td>1.2      </td> <td>0.7      </td> <td>3.3     </td> <td>0.064    </td> <td>-3.2</td> <td>-0.7</td>\n",
       "        </tr>\n",
       "        <tr>\n",
       "            <td>9         </td> <td>2005      </td> <td>40  </td> <td>GSW </td> <td>Monta Ellis     </td> <td>0                         </td> <td>12  </td> <td>833 </td> <td>29011</td> <td>14858</td> <td>2874</td> <td>3856</td> <td>0.451  </td> <td>0.314  </td> <td>0.772  </td> <td>34.8</td> <td>17.8     </td> <td>3.5      </td> <td>4.6      </td> <td>41.9    </td> <td>0.069    </td> <td>-0.3</td> <td>12.3</td>\n",
       "        </tr>\n",
       "    </tbody>\n",
       "</table>\n",
       "<p>... (290 rows omitted)</p>"
      ],
      "text/plain": [
       "Unnamed: 0 | Draft Year | Pk   | Tm   | Player           | College                    | Yrs  | G    | MP    | PTS   | TRB  | AST  | FG_Perc | 3P_Perc | FT_Perc | MP.1 | PTS_per_G | TRB_per_G | AST_per_G | WS_per_G | WS_per_48 | BPM  | VORP\n",
       "0          | 2005       | 31   | ATL  | Salim Stoudamire | University of Arizona      | 3    | 157  | 2672  | 1260  | 214  | 164  | 0.407   | 0.366   | 0.882   | 17   | 8         | 1.4       | 1         | 2.2      | 0.04      | -5.1 | -2.1\n",
       "1          | 2005       | 32   | LAC  | Daniel Ewing     | Duke University            | 2    | 127  | 1683  | 431   | 158  | 174  | 0.389   | 0.295   | 0.78    | 13.3 | 3.4       | 1.2       | 1.4       | 0.8      | 0.024     | -3.7 | -0.7\n",
       "2          | 2005       | 33   | NOH  | Brandon Bass     | Louisiana State University | 12   | 758  | 16410 | 6575  | 3448 | 608  | 0.499   | 0.207   | 0.832   | 21.6 | 8.7       | 4.5       | 0.8       | 42.8     | 0.125     | -1.1 | 3.7\n",
       "3          | 2005       | 34   | UTA  | C.J. Miles       | 0                          | 14   | 838  | 17121 | 8044  | 1999 | 902  | 0.412   | 0.359   | 0.81    | 20.4 | 9.6       | 2.4       | 1.1       | 30       | 0.084     | -1   | 4.3\n",
       "4          | 2005       | 35   | POR  | Ricky Sanchez    | 0                          | 0    | 0    | 0     | 0     | 0    | 0    | 0       | 0       | 0       | 0    | 0         | 0         | 0         | 0        | 0         | 0    | 0\n",
       "5          | 2005       | 36   | MIL  | Ersan Ilyasova   | 0                          | 11   | 745  | 17823 | 7885  | 4330 | 855  | 0.443   | 0.365   | 0.773   | 23.9 | 10.6      | 5.8       | 1.1       | 44.9     | 0.121     | -0.2 | 8.3\n",
       "6          | 2005       | 37   | LAL  | Ronny Turiaf     | Gonzaga University         | 10   | 473  | 8020  | 2209  | 1757 | 618  | 0.533   | 0       | 0.636   | 17   | 4.7       | 3.7       | 1.3       | 19.2     | 0.115     | 1    | 6\n",
       "7          | 2005       | 38   | ORL  | Travis Diener    | Marquette University       | 5    | 179  | 2660  | 854   | 243  | 432  | 0.388   | 0.353   | 0.847   | 14.9 | 4.8       | 1.4       | 2.4       | 5.6      | 0.102     | -1.8 | 0.1\n",
       "8          | 2005       | 39   | LAL  | Von Wafer        | Florida State University   | 6    | 200  | 2475  | 1054  | 234  | 146  | 0.42    | 0.325   | 0.751   | 12.4 | 5.3       | 1.2       | 0.7       | 3.3      | 0.064     | -3.2 | -0.7\n",
       "9          | 2005       | 40   | GSW  | Monta Ellis      | 0                          | 12   | 833  | 29011 | 14858 | 2874 | 3856 | 0.451   | 0.314   | 0.772   | 34.8 | 17.8      | 3.5       | 4.6       | 41.9     | 0.069     | -0.3 | 12.3\n",
       "... (290 rows omitted)"
      ]
     },
     "execution_count": 3,
     "metadata": {},
     "output_type": "execute_result"
    }
   ],
   "source": [
    "picks_data"
   ]
  },
  {
   "cell_type": "code",
   "execution_count": 4,
   "metadata": {},
   "outputs": [
    {
     "name": "stdout",
     "output_type": "stream",
     "text": [
      "There are 300 players drafted in the second round from 2005 to 2014\n"
     ]
    }
   ],
   "source": [
    "print(\"There are \" + str(picks_data.num_rows) + \" players drafted in the second round from 2005 to 2014\")"
   ]
  },
  {
   "cell_type": "code",
   "execution_count": 8,
   "metadata": {
    "scrolled": true
   },
   "outputs": [
    {
     "name": "stdout",
     "output_type": "stream",
     "text": [
      "The average second rounder will have a 3.0 year career.\n",
      "The average second rounder score 3.6 points per game in their career.\n"
     ]
    }
   ],
   "source": [
    "# General analysis\n",
    "avg_yrs = round(np.mean(picks_data.column('Yrs')))\n",
    "avg_pts = round(np.mean(picks_data.column('PTS_per_G')), 1)\n",
    "print(\"The average second rounder will have a \" + str(avg_yrs) + \" year career.\")\n",
    "print(\"The average second rounder score \" + str(avg_pts) + \" points per game in their career.\")"
   ]
  },
  {
   "cell_type": "code",
   "execution_count": 6,
   "metadata": {},
   "outputs": [
    {
     "name": "stdout",
     "output_type": "stream",
     "text": [
      "176 second round picks from 2005-2014 played two years or less in their careers.\n"
     ]
    }
   ],
   "source": [
    "# players who played 2 years or less (initial contract is for two years)\n",
    "two_yrs_or_less = picks_data.where('Yrs', are.below_or_equal_to(2)).column('Player')\n",
    "print(str(len(two_yrs_or_less)) + \" second round picks from 2005-2014 played two years or less in their careers.\")"
   ]
  },
  {
   "cell_type": "code",
   "execution_count": 7,
   "metadata": {},
   "outputs": [
    {
     "name": "stdout",
     "output_type": "stream",
     "text": [
      "General Statistics/Fun Facts:\n",
      "75 second round picks from 2005-2014 played zero NBA games in their careers.\n",
      "Second round picks from 2015-2014 played an average of 152.0 games in their overall career, with standard deviation of 216.0.\n",
      "The second rounders played an average of 49.0 games per year played.\n",
      "\n",
      "Statistics per draft year:\n",
      "2005 second rounders played an average of 285.0 games in their career, with 56.0 games per year.\n",
      "Variance: 110384, Standard Deviation: 332.24\n",
      "\n",
      "2006 second rounders played an average of 150.0 games in their career, with 48.0 games per year.\n",
      "Variance: 51409, Standard Deviation: 226.74\n",
      "\n",
      "2007 second rounders played an average of 135.0 games in their career, with 48.0 games per year.\n",
      "Variance: 50843, Standard Deviation: 225.49\n",
      "\n",
      "2008 second rounders played an average of 163.0 games in their career, with 53.0 games per year.\n",
      "Variance: 60185, Standard Deviation: 245.33\n",
      "\n",
      "2009 second rounders played an average of 211.0 games in their career, with 55.0 games per year.\n",
      "Variance: 54106, Standard Deviation: 232.61\n",
      "\n",
      "2010 second rounders played an average of 70.0 games in their career, with 35.0 games per year.\n",
      "Variance: 15027, Standard Deviation: 122.59\n",
      "\n",
      "2011 second rounders played an average of 150.0 games in their career, with 47.0 games per year.\n",
      "Variance: 31195, Standard Deviation: 176.62\n",
      "\n",
      "2012 second rounders played an average of 162.0 games in their career, with 52.0 games per year.\n",
      "Variance: 30654, Standard Deviation: 175.09\n",
      "\n",
      "2013 second rounders played an average of 89.0 games in their career, with 39.0 games per year.\n",
      "Variance: 11253, Standard Deviation: 106.08\n",
      "\n",
      "2014 second rounders played an average of 102.0 games in their career, with 45.0 games per year.\n",
      "Variance: 14998, Standard Deviation: 122.47\n",
      "\n"
     ]
    }
   ],
   "source": [
    "# Statistics for Games Played\n",
    "\n",
    "# General Stats/Fun Facts\n",
    "print(\"General Statistics/Fun Facts:\")\n",
    "\n",
    "zero_games = picks_data.where('G', are.equal_to(0)).column('Player')\n",
    "print(str(len(zero_games)) + \" second round picks from 2005-2014 played zero NBA games in their careers.\")\n",
    "\n",
    "avg_games = np.mean(picks_data.column('G'))\n",
    "std_games = np.std(picks_data.column('G'))\n",
    "avg_games_per_yr = np.mean(picks_data.column('G')) / np.mean(picks_data.column('Yrs'))\n",
    "print(\"Second round picks from 2015-2014 played an average of \" + \n",
    "      str(round(avg_games)) + \" games in their overall career, with standard deviation of \" + str(round(std_games)) + \".\")\n",
    "print(\"The second rounders played an average of \" + str(round(avg_games_per_yr)) + \" games per year played.\")\n",
    "print(\"\")\n",
    "\n",
    "# statistics per draft year\n",
    "print(\"Statistics per draft year:\")\n",
    "for i in range(2005, 2015):\n",
    "    year_data = picks_data.where(\"Draft Year\", are.equal_to(i))\n",
    "    games = year_data.column('G')\n",
    "    avg_g = np.mean(games)\n",
    "    per_yr_g = avg_g / np.mean(year_data.column('Yrs'))\n",
    "    variance = statistics.pvariance(games)\n",
    "    st_dev = np.std(games)\n",
    "    print(str(i) + \" second rounders played an average of \" + \n",
    "          str(round(avg_g)) + \" games in their career, with \" + str(round(per_yr_g)) + \" games per year.\")\n",
    "    print(\"Variance: \" + str(variance) + \", Standard Deviation: \" + str(round(st_dev,2)))\n",
    "    print(\"\")"
   ]
  },
  {
   "cell_type": "code",
   "execution_count": 14,
   "metadata": {},
   "outputs": [
    {
     "name": "stdout",
     "output_type": "stream",
     "text": [
      "Second round picks from 2015-2014 have an average VORP of 1.3, with standard deviation of 4.73.\n",
      "\n",
      "Statistics per draft year:\n",
      "2005 second rounders have an average VORP of 2.8.\n",
      "Variance: 29.7, Standard Deviation: 5.45\n",
      "\n",
      "2006 second rounders have an average VORP of 1.6.\n",
      "Variance: 46.95, Standard Deviation: 6.85\n",
      "\n",
      "2007 second rounders have an average VORP of 1.4.\n",
      "Variance: 43.42, Standard Deviation: 6.59\n",
      "\n",
      "2008 second rounders have an average VORP of 1.8.\n",
      "Variance: 30.14, Standard Deviation: 5.49\n",
      "\n",
      "2009 second rounders have an average VORP of 1.9.\n",
      "Variance: 17.67, Standard Deviation: 4.2\n",
      "\n",
      "2010 second rounders have an average VORP of 0.5.\n",
      "Variance: 2.04, Standard Deviation: 1.43\n",
      "\n",
      "2011 second rounders have an average VORP of 0.9.\n",
      "Variance: 11.15, Standard Deviation: 3.34\n",
      "\n",
      "2012 second rounders have an average VORP of 1.5.\n",
      "Variance: 19.94, Standard Deviation: 4.47\n",
      "\n",
      "2013 second rounders have an average VORP of 0.1.\n",
      "Variance: 0.66, Standard Deviation: 0.81\n",
      "\n",
      "2014 second rounders have an average VORP of 0.9.\n",
      "Variance: 16.16, Standard Deviation: 4.02\n",
      "\n"
     ]
    }
   ],
   "source": [
    "# Statistics for VORP\n",
    "vorp_clm = picks_data.column('VORP')\n",
    "avg_vorp = np.mean(vorp_clm)\n",
    "std_vorp = np.std(vorp_clm)\n",
    "print(\"Second round picks from 2015-2014 have an average VORP of \" + \n",
    "      str(round((avg_vorp), 1)) + \", with standard deviation of \" + str(round(std_vorp, 2)) + \".\")\n",
    "print(\"\")\n",
    "\n",
    "# statistics per draft year\n",
    "print(\"Statistics per draft year:\")\n",
    "for i in range(2005, 2015):\n",
    "    year_data = picks_data.where(\"Draft Year\", are.equal_to(i))\n",
    "    vorp_peryr = year_data.column('VORP')\n",
    "    avg = np.mean(vorp_peryr)\n",
    "    variance = statistics.pvariance(vorp_peryr)\n",
    "    st_dev = np.std(vorp_peryr)\n",
    "    print(str(i) + \" second rounders have an average VORP of \" + str(round(avg, 1)) + \".\")\n",
    "    print(\"Variance: \" + str(round(variance, 2)) + \", Standard Deviation: \" + str(round(st_dev,2)))\n",
    "    print(\"\")"
   ]
  },
  {
   "cell_type": "code",
   "execution_count": null,
   "metadata": {},
   "outputs": [],
   "source": []
  }
 ],
 "metadata": {
  "kernelspec": {
   "display_name": "Python 3",
   "language": "python",
   "name": "python3"
  },
  "language_info": {
   "codemirror_mode": {
    "name": "ipython",
    "version": 3
   },
   "file_extension": ".py",
   "mimetype": "text/x-python",
   "name": "python",
   "nbconvert_exporter": "python",
   "pygments_lexer": "ipython3",
   "version": "3.6.8"
  }
 },
 "nbformat": 4,
 "nbformat_minor": 2
}
