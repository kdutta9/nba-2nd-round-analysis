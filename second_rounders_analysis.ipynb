{
 "cells": [
  {
   "cell_type": "code",
   "execution_count": 15,
   "metadata": {},
   "outputs": [],
   "source": [
    "# import datascience to access Table to read csv and analyze table\n",
    "from datascience import *"
   ]
  },
  {
   "cell_type": "code",
   "execution_count": 16,
   "metadata": {},
   "outputs": [],
   "source": [
    "# access the csv file\n",
    "picks_data = Table.read_table(\"second_rounders_2004-14.csv\")"
   ]
  },
  {
   "cell_type": "code",
   "execution_count": 17,
   "metadata": {},
   "outputs": [
    {
     "data": {
      "text/html": [
       "<table border=\"1\" class=\"dataframe\">\n",
       "    <thead>\n",
       "        <tr>\n",
       "            <th>Unnamed: 0</th> <th>Draft Year</th> <th>Pk</th> <th>Tm</th> <th>Player</th> <th>College</th> <th>Yrs</th> <th>G</th> <th>MP</th> <th>PTS</th> <th>TRB</th> <th>AST</th> <th>FG_Perc</th> <th>3P_Perc</th> <th>FT_Perc</th> <th>MP.1</th> <th>PTS_per_G</th> <th>TRB_per_G</th> <th>AST_per_G</th> <th>WS_per_G</th> <th>WS_per_48</th> <th>BPM</th> <th>VORP</th>\n",
       "        </tr>\n",
       "    </thead>\n",
       "    <tbody>\n",
       "        <tr>\n",
       "            <td>0         </td> <td>2,004     </td> <td>31  </td> <td>CHI </td> <td>Jackson Vroman  </td> <td>Iowa State University        </td> <td>2   </td> <td>87  </td> <td>1,111 </td> <td>285  </td> <td>261  </td> <td>51   </td> <td>0.408  </td> <td>0      </td> <td>0.58   </td> <td>12.8</td> <td>3.3      </td> <td>3        </td> <td>0.6      </td> <td>0       </td> <td>0.001    </td> <td>-3.9 </td> <td>-0.5</td>\n",
       "        </tr>\n",
       "        <tr>\n",
       "            <td>1         </td> <td>2,004     </td> <td>32  </td> <td>WAS </td> <td>Peter John Ramos</td> <td>0                            </td> <td>1   </td> <td>6   </td> <td>20    </td> <td>11   </td> <td>4    </td> <td>0    </td> <td>0.5    </td> <td>0      </td> <td>0.5    </td> <td>3.3 </td> <td>1.8      </td> <td>0.7      </td> <td>0        </td> <td>0       </td> <td>-0.108   </td> <td>-18.3</td> <td>-0.1</td>\n",
       "        </tr>\n",
       "        <tr>\n",
       "            <td>2         </td> <td>2,004     </td> <td>33  </td> <td>LAC </td> <td>Lionel Chalmers </td> <td>Xavier University            </td> <td>1   </td> <td>36  </td> <td>433   </td> <td>111  </td> <td>31   </td> <td>51   </td> <td>0.336  </td> <td>0.245  </td> <td>0.625  </td> <td>12  </td> <td>3.1      </td> <td>0.9      </td> <td>1.4      </td> <td>-0.2    </td> <td>-0.025   </td> <td>-6.3 </td> <td>-0.5</td>\n",
       "        </tr>\n",
       "        <tr>\n",
       "            <td>3         </td> <td>2,004     </td> <td>34  </td> <td>ATL </td> <td>Donta Smith     </td> <td>Southeastern Illinois College</td> <td>2   </td> <td>61  </td> <td>560   </td> <td>165  </td> <td>66   </td> <td>48   </td> <td>0.421  </td> <td>0.308  </td> <td>0.65   </td> <td>9.2 </td> <td>2.7      </td> <td>1.1      </td> <td>0.8      </td> <td>0.5     </td> <td>0.043    </td> <td>-3.2 </td> <td>-0.2</td>\n",
       "        </tr>\n",
       "        <tr>\n",
       "            <td>4         </td> <td>2,004     </td> <td>35  </td> <td>SEA </td> <td>Andre Emmett    </td> <td>Texas Tech University        </td> <td>2   </td> <td>14  </td> <td>73    </td> <td>20   </td> <td>8    </td> <td>1    </td> <td>0.462  </td> <td>0      </td> <td>0.615  </td> <td>5.2 </td> <td>1.4      </td> <td>0.6      </td> <td>0.1      </td> <td>0.1     </td> <td>0.04     </td> <td>-6.8 </td> <td>-0.1</td>\n",
       "        </tr>\n",
       "        <tr>\n",
       "            <td>5         </td> <td>2,004     </td> <td>36  </td> <td>ORL </td> <td>Antonio Burks   </td> <td>University of Memphis        </td> <td>2   </td> <td>81  </td> <td>789   </td> <td>186  </td> <td>49   </td> <td>104  </td> <td>0.387  </td> <td>0.235  </td> <td>0.571  </td> <td>9.7 </td> <td>2.3      </td> <td>0.6      </td> <td>1.3      </td> <td>0.1     </td> <td>0.004    </td> <td>-6.6 </td> <td>-0.9</td>\n",
       "        </tr>\n",
       "        <tr>\n",
       "            <td>6         </td> <td>2,004     </td> <td>37  </td> <td>ATL </td> <td>Royal Ivey      </td> <td>University of Texas at Austin</td> <td>10  </td> <td>492 </td> <td>6,162 </td> <td>1,641</td> <td>557  </td> <td>501  </td> <td>0.406  </td> <td>0.361  </td> <td>0.706  </td> <td>12.5</td> <td>3.3      </td> <td>1.1      </td> <td>1        </td> <td>4.5     </td> <td>0.035    </td> <td>-3.8 </td> <td>-2.8</td>\n",
       "        </tr>\n",
       "        <tr>\n",
       "            <td>7         </td> <td>2,004     </td> <td>38  </td> <td>CHI </td> <td>Chris Duhon     </td> <td>Duke University              </td> <td>9   </td> <td>606 </td> <td>15,526</td> <td>3,946</td> <td>1,364</td> <td>2,690</td> <td>0.393  </td> <td>0.363  </td> <td>0.784  </td> <td>25.6</td> <td>6.5      </td> <td>2.3      </td> <td>4.4      </td> <td>25      </td> <td>0.077    </td> <td>-1.5 </td> <td>2   </td>\n",
       "        </tr>\n",
       "        <tr>\n",
       "            <td>8         </td> <td>2,004     </td> <td>39  </td> <td>TOR </td> <td>Albert Miralles </td> <td>0                            </td> <td>0   </td> <td>0   </td> <td>0     </td> <td>0    </td> <td>0    </td> <td>0    </td> <td>0      </td> <td>0      </td> <td>0      </td> <td>0   </td> <td>0        </td> <td>0        </td> <td>0        </td> <td>0       </td> <td>0        </td> <td>0    </td> <td>0   </td>\n",
       "        </tr>\n",
       "        <tr>\n",
       "            <td>9         </td> <td>2,004     </td> <td>40  </td> <td>BOS </td> <td>Justin Reed     </td> <td>University of Mississippi    </td> <td>3   </td> <td>136 </td> <td>1,436 </td> <td>472  </td> <td>186  </td> <td>68   </td> <td>0.404  </td> <td>0      </td> <td>0.752  </td> <td>10.6</td> <td>3.5      </td> <td>1.4      </td> <td>0.5      </td> <td>0.5     </td> <td>0.016    </td> <td>-5.9 </td> <td>-1.4</td>\n",
       "        </tr>\n",
       "    </tbody>\n",
       "</table>\n",
       "<p>... (319 rows omitted)</p>"
      ],
      "text/plain": [
       "Unnamed: 0 | Draft Year | Pk   | Tm   | Player           | College                       | Yrs  | G    | MP     | PTS   | TRB   | AST   | FG_Perc | 3P_Perc | FT_Perc | MP.1 | PTS_per_G | TRB_per_G | AST_per_G | WS_per_G | WS_per_48 | BPM   | VORP\n",
       "0          | 2,004      | 31   | CHI  | Jackson Vroman   | Iowa State University         | 2    | 87   | 1,111  | 285   | 261   | 51    | 0.408   | 0       | 0.58    | 12.8 | 3.3       | 3         | 0.6       | 0        | 0.001     | -3.9  | -0.5\n",
       "1          | 2,004      | 32   | WAS  | Peter John Ramos | 0                             | 1    | 6    | 20     | 11    | 4     | 0     | 0.5     | 0       | 0.5     | 3.3  | 1.8       | 0.7       | 0         | 0        | -0.108    | -18.3 | -0.1\n",
       "2          | 2,004      | 33   | LAC  | Lionel Chalmers  | Xavier University             | 1    | 36   | 433    | 111   | 31    | 51    | 0.336   | 0.245   | 0.625   | 12   | 3.1       | 0.9       | 1.4       | -0.2     | -0.025    | -6.3  | -0.5\n",
       "3          | 2,004      | 34   | ATL  | Donta Smith      | Southeastern Illinois College | 2    | 61   | 560    | 165   | 66    | 48    | 0.421   | 0.308   | 0.65    | 9.2  | 2.7       | 1.1       | 0.8       | 0.5      | 0.043     | -3.2  | -0.2\n",
       "4          | 2,004      | 35   | SEA  | Andre Emmett     | Texas Tech University         | 2    | 14   | 73     | 20    | 8     | 1     | 0.462   | 0       | 0.615   | 5.2  | 1.4       | 0.6       | 0.1       | 0.1      | 0.04      | -6.8  | -0.1\n",
       "5          | 2,004      | 36   | ORL  | Antonio Burks    | University of Memphis         | 2    | 81   | 789    | 186   | 49    | 104   | 0.387   | 0.235   | 0.571   | 9.7  | 2.3       | 0.6       | 1.3       | 0.1      | 0.004     | -6.6  | -0.9\n",
       "6          | 2,004      | 37   | ATL  | Royal Ivey       | University of Texas at Austin | 10   | 492  | 6,162  | 1,641 | 557   | 501   | 0.406   | 0.361   | 0.706   | 12.5 | 3.3       | 1.1       | 1         | 4.5      | 0.035     | -3.8  | -2.8\n",
       "7          | 2,004      | 38   | CHI  | Chris Duhon      | Duke University               | 9    | 606  | 15,526 | 3,946 | 1,364 | 2,690 | 0.393   | 0.363   | 0.784   | 25.6 | 6.5       | 2.3       | 4.4       | 25       | 0.077     | -1.5  | 2\n",
       "8          | 2,004      | 39   | TOR  | Albert Miralles  | 0                             | 0    | 0    | 0      | 0     | 0     | 0     | 0       | 0       | 0       | 0    | 0         | 0         | 0         | 0        | 0         | 0     | 0\n",
       "9          | 2,004      | 40   | BOS  | Justin Reed      | University of Mississippi     | 3    | 136  | 1,436  | 472   | 186   | 68    | 0.404   | 0       | 0.752   | 10.6 | 3.5       | 1.4       | 0.5       | 0.5      | 0.016     | -5.9  | -1.4\n",
       "... (319 rows omitted)"
      ]
     },
     "execution_count": 17,
     "metadata": {},
     "output_type": "execute_result"
    }
   ],
   "source": [
    "picks_data"
   ]
  },
  {
   "cell_type": "code",
   "execution_count": 14,
   "metadata": {},
   "outputs": [
    {
     "data": {
      "text/plain": [
       "329"
      ]
     },
     "execution_count": 14,
     "metadata": {},
     "output_type": "execute_result"
    }
   ],
   "source": [
    "picks_data.num_rows"
   ]
  }
 ],
 "metadata": {
  "kernelspec": {
   "display_name": "Python 3",
   "language": "python",
   "name": "python3"
  },
  "language_info": {
   "codemirror_mode": {
    "name": "ipython",
    "version": 3
   },
   "file_extension": ".py",
   "mimetype": "text/x-python",
   "name": "python",
   "nbconvert_exporter": "python",
   "pygments_lexer": "ipython3",
   "version": "3.6.8"
  }
 },
 "nbformat": 4,
 "nbformat_minor": 2
}
